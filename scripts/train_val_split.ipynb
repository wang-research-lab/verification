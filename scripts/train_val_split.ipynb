{
 "cells": [
  {
   "cell_type": "code",
   "execution_count": null,
   "id": "cb6ca403",
   "metadata": {},
   "outputs": [],
   "source": [
    "from verification.utils import load_jsonl, save_jsonl\n",
    "data = load_jsonl(\"../data/vfm/ranking-data-11670.jsonl\")"
   ]
  },
  {
   "cell_type": "code",
   "execution_count": 3,
   "id": "e73871b1",
   "metadata": {},
   "outputs": [],
   "source": [
    "import random\n",
    "random.shuffle(data)"
   ]
  },
  {
   "cell_type": "code",
   "execution_count": 4,
   "id": "742f29a6",
   "metadata": {},
   "outputs": [],
   "source": [
    "test_data = data[:250]\n",
    "train_data = data[250:]"
   ]
  },
  {
   "cell_type": "code",
   "execution_count": null,
   "id": "312a2994",
   "metadata": {},
   "outputs": [],
   "source": [
    "save_jsonl(\"../data/vfm/ranking-data-11420-new.jsonl\", train_data)"
   ]
  },
  {
   "cell_type": "code",
   "execution_count": 8,
   "id": "2f237875",
   "metadata": {},
   "outputs": [],
   "source": [
    "for item in test_data:\n",
    "    del item[\"llm_responses\"]"
   ]
  },
  {
   "cell_type": "code",
   "execution_count": null,
   "id": "502f630c",
   "metadata": {},
   "outputs": [],
   "source": [
    "save_jsonl(\"../data/vfm/val-250-problems-new.jsonl\", test_data)"
   ]
  },
  {
   "cell_type": "code",
   "execution_count": null,
   "id": "b4f9f554-0f8c-4c8f-bf04-5676d7859720",
   "metadata": {},
   "outputs": [],
   "source": [
    "# ran 32 rollouts per val problem with 1.5b, 7b, 14b, and 32b"
   ]
  },
  {
   "cell_type": "code",
   "execution_count": null,
   "id": "9975481b",
   "metadata": {},
   "outputs": [],
   "source": [
    "from verification.utils import load_jsonl, save_jsonl\n",
    "data_1_5b = load_jsonl(\"../data/ranking-val/1_5b.jsonl\")\n",
    "data_7b = load_jsonl(\"../data/ranking-val/7b.jsonl\")\n",
    "data_14b = load_jsonl(\"../data/ranking-val/14b.jsonl\")\n",
    "data_32b = load_jsonl(\"../data/ranking-val/32b.jsonl\")"
   ]
  },
  {
   "cell_type": "code",
   "execution_count": 2,
   "id": "8da4f324-a75e-47bd-a9d3-54edfa4bc7c2",
   "metadata": {},
   "outputs": [],
   "source": [
    "val_data = data_1_5b + data_7b + data_14b + data_32b"
   ]
  },
  {
   "cell_type": "code",
   "execution_count": 3,
   "id": "5ea30ffd-5389-47f2-9298-e1e1c8316852",
   "metadata": {},
   "outputs": [],
   "source": [
    "filtered_val_data = []\n",
    "for item in val_data:\n",
    "    corrects = [x[\"correct\"] for x in item[\"llm_responses\"]]\n",
    "    if not all(corrects) and any(corrects):\n",
    "        filtered_val_data.append(item)"
   ]
  },
  {
   "cell_type": "code",
   "execution_count": 4,
   "id": "a23cf0ae-18b0-427f-a200-bc53bdacbff3",
   "metadata": {},
   "outputs": [
    {
     "data": {
      "text/plain": [
       "691"
      ]
     },
     "execution_count": 4,
     "metadata": {},
     "output_type": "execute_result"
    }
   ],
   "source": [
    "len(filtered_val_data)"
   ]
  },
  {
   "cell_type": "code",
   "execution_count": 9,
   "id": "52b592fc-6c63-415d-a51e-0a3db6014772",
   "metadata": {},
   "outputs": [
    {
     "name": "stdout",
     "output_type": "stream",
     "text": [
      "deepseek-ai/DeepSeek-R1-Distill-Qwen-1.5B: 207\n",
      "deepseek-ai/DeepSeek-R1-Distill-Qwen-7B: 163\n",
      "deepseek-ai/DeepSeek-R1-Distill-Qwen-14B: 174\n",
      "deepseek-ai/DeepSeek-R1-Distill-Qwen-32B: 147\n",
      "total: 691\n"
     ]
    }
   ],
   "source": [
    "from collections import defaultdict\n",
    "counter = defaultdict(int)\n",
    "\n",
    "for item in filtered_val_data:\n",
    "    model = item[\"llm_responses\"][0][\"model\"]\n",
    "    counter[model] += 1\n",
    "\n",
    "for k, v in counter.items():\n",
    "    print(f\"{k}: {v}\")\n",
    "    \n",
    "print(f\"total: {len(filtered_val_data)}\")"
   ]
  },
  {
   "cell_type": "code",
   "execution_count": 10,
   "id": "e9781f07-08f6-4947-ad0a-b755784aa889",
   "metadata": {},
   "outputs": [],
   "source": [
    "import random\n",
    "random.shuffle(filtered_val_data)"
   ]
  },
  {
   "cell_type": "code",
   "execution_count": null,
   "id": "9e6ee0a4-3dd0-4171-b5e6-3b8d72beb972",
   "metadata": {},
   "outputs": [],
   "source": [
    "save_jsonl(\"../data/val-0829.jsonl\", filtered_val_data)"
   ]
  }
 ],
 "metadata": {
  "kernelspec": {
   "display_name": "Python 3 (ipykernel)",
   "language": "python",
   "name": "python3"
  },
  "language_info": {
   "codemirror_mode": {
    "name": "ipython",
    "version": 3
   },
   "file_extension": ".py",
   "mimetype": "text/x-python",
   "name": "python",
   "nbconvert_exporter": "python",
   "pygments_lexer": "ipython3",
   "version": "3.10.16"
  }
 },
 "nbformat": 4,
 "nbformat_minor": 5
}
