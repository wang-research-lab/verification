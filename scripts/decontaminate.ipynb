{
 "cells": [
  {
   "cell_type": "code",
   "execution_count": 1,
   "id": "fd892ae9-9934-490e-96f8-68b2c47b063f",
   "metadata": {},
   "outputs": [],
   "source": [
    "import re\n",
    "from rapidfuzz import fuzz\n",
    "from datasets import concatenate_datasets\n",
    "from verification.utils import load_jsonl, save_jsonl\n",
    "from verification.rollout.preprocess import *"
   ]
  },
  {
   "cell_type": "code",
   "execution_count": null,
   "id": "33f374eb-e31e-4f69-9845-c01e0cf7130b",
   "metadata": {},
   "outputs": [
    {
     "data": {
      "application/vnd.jupyter.widget-view+json": {
       "model_id": "f3545b8d50aa4ab2ba67474dcd2dcae2",
       "version_major": 2,
       "version_minor": 0
      },
      "text/plain": [
       "Map:   0%|          | 0/500 [00:00<?, ? examples/s]"
      ]
     },
     "metadata": {},
     "output_type": "display_data"
    },
    {
     "data": {
      "application/vnd.jupyter.widget-view+json": {
       "model_id": "63c13b21e62748649218d7a38c0f9991",
       "version_major": 2,
       "version_minor": 0
      },
      "text/plain": [
       "Map:   0%|          | 0/500 [00:00<?, ? examples/s]"
      ]
     },
     "metadata": {},
     "output_type": "display_data"
    },
    {
     "data": {
      "application/vnd.jupyter.widget-view+json": {
       "model_id": "20208fa9a803405193952ecd6c599e62",
       "version_major": 2,
       "version_minor": 0
      },
      "text/plain": [
       "Filter:   0%|          | 0/350 [00:00<?, ? examples/s]"
      ]
     },
     "metadata": {},
     "output_type": "display_data"
    },
    {
     "data": {
      "application/vnd.jupyter.widget-view+json": {
       "model_id": "7f7133369cd341cf8c7f8d701db09276",
       "version_major": 2,
       "version_minor": 0
      },
      "text/plain": [
       "Map:   0%|          | 0/56 [00:00<?, ? examples/s]"
      ]
     },
     "metadata": {},
     "output_type": "display_data"
    },
    {
     "data": {
      "application/vnd.jupyter.widget-view+json": {
       "model_id": "0dfa873baec24a798238b04c710d5ee0",
       "version_major": 2,
       "version_minor": 0
      },
      "text/plain": [
       "Map:   0%|          | 0/56 [00:00<?, ? examples/s]"
      ]
     },
     "metadata": {},
     "output_type": "display_data"
    }
   ],
   "source": [
    "train_problems = load_jsonl(\"../data/vfm/vfm-problems.jsonl\")\n",
    "eval_problems = list(concatenate_datasets([load_aime2024(), load_aime2025(), load_livebench_math(), load_gpqa()]))"
   ]
  },
  {
   "cell_type": "code",
   "execution_count": 4,
   "id": "10388d19-e4b7-4f16-8be1-54f169225b1f",
   "metadata": {},
   "outputs": [],
   "source": [
    "def normalize(text):\n",
    "    suffixes = [\n",
    "        \"Return your final response as 'Final Answer: \\\\boxed{<answer>}', where <answer> is the number or mathematical expression of the solution.\",\n",
    "        \"Please reason step by step, and put your final answer within \\\\boxed{}.\",\n",
    "    ]\n",
    "\n",
    "    for suffix in suffixes:\n",
    "        if suffix in text:\n",
    "            text = text.replace(suffix, \"\")\n",
    "    \n",
    "    allowed_chars = (\n",
    "        \"A-Za-z0-9\"            \n",
    "        \"\\\\\\\\\\\\{\\\\}\\\\$\\\\^\\\\_\\\\(\\\\)\\\\+\\\\-\\\\=,\\\\.\\\\~\\\\%\\\\|\\\\<\\\\>:\\\\;\"\n",
    "    )\n",
    "    text = re.sub(f\"[^{allowed_chars}\\\\s]+\", \" \", text)\n",
    "    text = re.sub(r\"\\s+\", \" \", text).strip()\n",
    "    return text"
   ]
  },
  {
   "cell_type": "code",
   "execution_count": 5,
   "id": "df89b279-ca2a-4967-815c-33f11215eb4f",
   "metadata": {},
   "outputs": [],
   "source": [
    "def exact_match(train_problems, eval_problems):\n",
    "    eval_prompts = {normalize(x[\"prompt\"]) for x in eval_problems}\n",
    "    exact_matched = [item for item in train_problems if normalize(item['prompt']) in eval_prompts]\n",
    "    return exact_matched"
   ]
  },
  {
   "cell_type": "code",
   "execution_count": 6,
   "id": "1e25dae2-c126-4fd9-9539-3a808235c330",
   "metadata": {},
   "outputs": [],
   "source": [
    "def fuzzy_match(train_problems, eval_problems, threshold=80):\n",
    "    eval_prompts = [normalize(x[\"prompt\"]) for x in eval_problems]\n",
    "    fuzzy_matched = []\n",
    "    for train_item in train_problems:\n",
    "        train_prompt = normalize(train_item[\"prompt\"])\n",
    "        for eval_prompt in eval_prompts:\n",
    "            similarity = fuzz.ratio(train_prompt, eval_prompt)\n",
    "            if similarity >= threshold:\n",
    "                fuzzy_matched.append(train_item)\n",
    "                break\n",
    "    return fuzzy_matched"
   ]
  },
  {
   "cell_type": "code",
   "execution_count": 7,
   "id": "3356a808-d563-4da8-baf8-2654060ccde0",
   "metadata": {},
   "outputs": [
    {
     "data": {
      "text/plain": [
       "257"
      ]
     },
     "execution_count": 7,
     "metadata": {},
     "output_type": "execute_result"
    }
   ],
   "source": [
    "fuzzy_matches = fuzzy_match(train_problems, eval_problems, threshold=80)\n",
    "len(fuzzy_matches)"
   ]
  },
  {
   "cell_type": "code",
   "execution_count": 35,
   "id": "044752b2-a732-429a-af2a-acfa5bc50cbb",
   "metadata": {},
   "outputs": [],
   "source": [
    "train_problems_decontaminated = [item for item in train_problems if item not in fuzzy_matches]"
   ]
  },
  {
   "cell_type": "code",
   "execution_count": 38,
   "id": "82cbea96-e921-4a5f-a26b-61877086982b",
   "metadata": {},
   "outputs": [],
   "source": [
    "save_jsonl(\"../data/vfm/vfm-problems-decontaminated.jsonl\", train_problems_decontaminated)"
   ]
  }
 ],
 "metadata": {
  "kernelspec": {
   "display_name": "Python 3 (ipykernel)",
   "language": "python",
   "name": "python3"
  },
  "language_info": {
   "codemirror_mode": {
    "name": "ipython",
    "version": 3
   },
   "file_extension": ".py",
   "mimetype": "text/x-python",
   "name": "python",
   "nbconvert_exporter": "python",
   "pygments_lexer": "ipython3",
   "version": "3.10.16"
  }
 },
 "nbformat": 4,
 "nbformat_minor": 5
}
